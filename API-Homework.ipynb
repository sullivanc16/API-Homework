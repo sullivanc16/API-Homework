{
 "cells": [
  {
   "cell_type": "markdown",
   "metadata": {},
   "source": [
    "# Unit 5 - Financial Planning\n"
   ]
  },
  {
   "cell_type": "code",
   "execution_count": 2,
   "metadata": {},
   "outputs": [],
   "source": [
    "# Initial imports\n",
    "import os\n",
    "import requests\n",
    "import pandas as pd\n",
    "from dotenv import load_dotenv\n",
    "import alpaca_trade_api as tradeapi\n",
    "from MCForecastTools import MCSimulation\n",
    "\n",
    "%matplotlib inline"
   ]
  },
  {
   "cell_type": "code",
   "execution_count": 3,
   "metadata": {},
   "outputs": [
    {
     "data": {
      "text/plain": [
       "True"
      ]
     },
     "execution_count": 3,
     "metadata": {},
     "output_type": "execute_result"
    }
   ],
   "source": [
    "# Load .env enviroment variables\n",
    "load_dotenv()"
   ]
  },
  {
   "cell_type": "markdown",
   "metadata": {},
   "source": [
    "## Part 1 - Personal Finance Planner"
   ]
  },
  {
   "cell_type": "code",
   "execution_count": 4,
   "metadata": {},
   "outputs": [],
   "source": [
    "# Set monthly household income\n",
    "# YOUR CODE HERE!\n",
    "monthly_income = 12000"
   ]
  },
  {
   "cell_type": "markdown",
   "metadata": {},
   "source": [
    "### Collect Crypto Prices Using the `requests` Library"
   ]
  },
  {
   "cell_type": "code",
   "execution_count": 5,
   "metadata": {},
   "outputs": [],
   "source": [
    "# Current amount of crypto assets\n",
    "my_btc = 1.2\n",
    "my_eth = 5.3"
   ]
  },
  {
   "cell_type": "code",
   "execution_count": 6,
   "metadata": {},
   "outputs": [],
   "source": [
    "# Crypto API URLs\n",
    "btc_url = \"https://api.alternative.me/v2/ticker/Bitcoin/?convert=USD\"\n",
    "eth_url = \"https://api.alternative.me/v2/ticker/Ethereum/?convert=USD\""
   ]
  },
  {
   "cell_type": "code",
   "execution_count": 7,
   "metadata": {},
   "outputs": [
    {
     "name": "stdout",
     "output_type": "stream",
     "text": [
      "The current value of your 1.2 BTC is $13621.04\n",
      "The current value of your 5.3 ETH is $1990.68\n"
     ]
    }
   ],
   "source": [
    "# Fetch current BTC price\n",
    "# YOUR CODE HERE!\n",
    "btc_data = requests.get(btc_url).json()\n",
    "# Fetch current ETH price\n",
    "# YOUR CODE HERE!\n",
    "eth_data = requests.get(eth_url).json()\n",
    "\n",
    "# Compute current value of my crpto\n",
    "# YOUR CODE HERE!\n",
    "btc_price = btc_data['data']['1']['quotes']['USD']['price']\n",
    "eth_price = eth_data['data']['1027']['quotes']['USD']['price']\n",
    "\n",
    "my_btc_value = (my_btc)*(btc_price)\n",
    "my_eth_value = (my_eth)*(eth_price)\n",
    "\n",
    "# Print current crypto wallet balance\n",
    "print(f\"The current value of your {my_btc} BTC is ${my_btc_value:0.2f}\")\n",
    "print(f\"The current value of your {my_eth} ETH is ${my_eth_value:0.2f}\")"
   ]
  },
  {
   "cell_type": "markdown",
   "metadata": {},
   "source": [
    "### Collect Investments Data Using Alpaca: `SPY` (stocks) and `AGG` (bonds)"
   ]
  },
  {
   "cell_type": "code",
   "execution_count": 8,
   "metadata": {},
   "outputs": [],
   "source": [
    "# Current amount of shares\n",
    "my_agg = 200\n",
    "my_spy = 50"
   ]
  },
  {
   "cell_type": "code",
   "execution_count": 9,
   "metadata": {
    "scrolled": true
   },
   "outputs": [],
   "source": [
    "# Set Alpaca API key and secret\n",
    "# YOUR CODE HERE!\n",
    "alpaca_api_key = os.getenv(\"ALPACA_API_KEY\")\n",
    "alpaca_secret_key = os.getenv(\"ALPACA_SECRET_KEY\")\n",
    "\n",
    "# Create the Alpaca API object\n",
    "# YOUR CODE HERE!\n",
    "alpaca = tradeapi.REST(alpaca_api_key, alpaca_secret_key, api_version = \"v2\")"
   ]
  },
  {
   "cell_type": "code",
   "execution_count": 10,
   "metadata": {},
   "outputs": [
    {
     "name": "stdout",
     "output_type": "stream",
     "text": [
      "Current AGG closing price: $118.04\n",
      "Current SPY closing price: $347.97\n"
     ]
    }
   ],
   "source": [
    "# Format current date as ISO format\n",
    "# YOUR CODE HERE!\n",
    "today = pd.Timestamp(\"2020-10-14\", tz = \"America/New_York\").isoformat()\n",
    "\n",
    "# Set the tickers\n",
    "tickers = [\"AGG\", \"SPY\"]\n",
    "\n",
    "\n",
    "# Set timeframe to '1D' for Alpaca API\n",
    "timeframe = \"1D\"\n",
    "\n",
    "\n",
    "# Get current closing prices for SPY and AGG\n",
    "# YOUR CODE HERE!\n",
    "df_portfolio = alpaca.get_barset(\n",
    "    tickers, timeframe, start = today, end = today).df\n",
    "\n",
    "# Pick AGG and SPY close prices\n",
    "# YOUR CODE HERE!\n",
    "agg_close_price = df_portfolio[\"AGG\"][\"close\"].values[0]\n",
    "spy_close_price = df_portfolio[\"SPY\"][\"close\"].values[0]\n",
    "\n",
    "# Print AGG and SPY close prices\n",
    "print(f\"Current AGG closing price: ${agg_close_price}\")\n",
    "print(f\"Current SPY closing price: ${spy_close_price}\")"
   ]
  },
  {
   "cell_type": "code",
   "execution_count": 11,
   "metadata": {},
   "outputs": [
    {
     "name": "stdout",
     "output_type": "stream",
     "text": [
      "The current value of your 50 SPY shares is $17398.50\n",
      "The current value of your 200 AGG shares is $23608.00\n"
     ]
    }
   ],
   "source": [
    "# Compute the current value of shares\n",
    "# YOUR CODE HERE!\n",
    "my_agg_value = (my_agg)*(agg_close_price)\n",
    "my_spy_value = (my_spy)*(spy_close_price)\n",
    "\n",
    "# Print current value of share\n",
    "print(f\"The current value of your {my_spy} SPY shares is ${my_spy_value:0.2f}\")\n",
    "print(f\"The current value of your {my_agg} AGG shares is ${my_agg_value:0.2f}\")"
   ]
  },
  {
   "cell_type": "markdown",
   "metadata": {},
   "source": [
    "### Savings Health Analysis"
   ]
  },
  {
   "cell_type": "code",
   "execution_count": 12,
   "metadata": {},
   "outputs": [
    {
     "data": {
      "text/html": [
       "<div>\n",
       "<style scoped>\n",
       "    .dataframe tbody tr th:only-of-type {\n",
       "        vertical-align: middle;\n",
       "    }\n",
       "\n",
       "    .dataframe tbody tr th {\n",
       "        vertical-align: top;\n",
       "    }\n",
       "\n",
       "    .dataframe thead th {\n",
       "        text-align: right;\n",
       "    }\n",
       "</style>\n",
       "<table border=\"1\" class=\"dataframe\">\n",
       "  <thead>\n",
       "    <tr style=\"text-align: right;\">\n",
       "      <th></th>\n",
       "      <th>amount</th>\n",
       "    </tr>\n",
       "  </thead>\n",
       "  <tbody>\n",
       "    <tr>\n",
       "      <th>crypto</th>\n",
       "      <td>15611.724</td>\n",
       "    </tr>\n",
       "    <tr>\n",
       "      <th>shares</th>\n",
       "      <td>250.000</td>\n",
       "    </tr>\n",
       "  </tbody>\n",
       "</table>\n",
       "</div>"
      ],
      "text/plain": [
       "           amount\n",
       "crypto  15611.724\n",
       "shares    250.000"
      ]
     },
     "metadata": {},
     "output_type": "display_data"
    }
   ],
   "source": [
    "# Create savings DataFrame\n",
    "# YOUR CODE HERE!\n",
    "df_savings = pd.DataFrame(data={'amount':[(my_btc_value + my_eth_value ),(my_agg + my_spy )]},\n",
    "                          index=['crypto', 'shares'])\n",
    "\n",
    "# Display savings DataFrame\n",
    "display(df_savings)"
   ]
  },
  {
   "cell_type": "code",
   "execution_count": 13,
   "metadata": {},
   "outputs": [
    {
     "data": {
      "text/plain": [
       "<matplotlib.axes._subplots.AxesSubplot at 0x11acc96a0>"
      ]
     },
     "execution_count": 13,
     "metadata": {},
     "output_type": "execute_result"
    },
    {
     "data": {
      "image/png": "[encoded data removed]",
      "text/plain": [
       "<Figure size 432x288 with 1 Axes>"
      ]
     },
     "metadata": {},
     "output_type": "display_data"
    }
   ],
   "source": [
    "# Plot savings pie chart\n",
    "# YOUR CODE HERE!\n",
    "df_savings.plot(kind = 'pie', y = 'amount', title = 'Composition of Personal Savings')"
   ]
  },
  {
   "cell_type": "code",
   "execution_count": 14,
   "metadata": {},
   "outputs": [
    {
     "name": "stdout",
     "output_type": "stream",
     "text": [
      "You are -20138.28 away from reaching your goal\n"
     ]
    }
   ],
   "source": [
    "# Set ideal emergency fund\n",
    "emergency_fund = monthly_income * 3\n",
    "\n",
    "# Calculate total amount of savings\n",
    "# YOUR CODE HERE!\n",
    "total_savings = (my_btc_value + my_eth_value) + (my_agg + my_spy)\n",
    "insufficient = round(total_savings - emergency_fund, 2)\n",
    "\n",
    "# Validate saving health\n",
    "# YOUR CODE HERE!\n",
    "if total_savings > emergency_fund:\n",
    "    print(\"Congratulations! You have plenty of money is your emergency funds!\")\n",
    "elif total_savings == emergency_fund:\n",
    "    print(\"Congratulations! You have reached your financial goals!\")\n",
    "else:\n",
    "    print(f\"You are {insufficient} away from reaching your goal\")\n"
   ]
  },
  {
   "cell_type": "markdown",
   "metadata": {},
   "source": [
    "## Part 2 - Retirement Planning\n",
    "\n",
    "### Monte Carlo Simulation"
   ]
  },
  {
   "cell_type": "code",
   "execution_count": 15,
   "metadata": {},
   "outputs": [],
   "source": [
    "# Import libraries and dependencies\n",
    "import numpy as np\n",
    "import pandas as pd\n",
    "import os\n",
    "import alpaca_trade_api as tradeapi\n",
    "import datetime as dt\n",
    "import pytz\n",
    "from MCForecastTools import MCSimulation"
   ]
  },
  {
   "cell_type": "code",
   "execution_count": 16,
   "metadata": {},
   "outputs": [
    {
     "data": {
      "text/plain": [
       "True"
      ]
     },
     "execution_count": 16,
     "metadata": {},
     "output_type": "execute_result"
    }
   ],
   "source": [
    "from dotenv import load_dotenv\n",
    "load_dotenv()"
   ]
  },
  {
   "cell_type": "code",
   "execution_count": null,
   "metadata": {},
   "outputs": [],
   "source": [
    "# Set start and end dates of five years back from today.\n",
    "# Sample results may vary from the solution based on the time frame chosen\n",
    "start_date = pd.Timestamp('2015-10-14', tz='America/New_York').isoformat()\n",
    "end_date = pd.Timestamp('2020-10-14', tz='America/New_York').isoformat()"
   ]
  },
  {
   "cell_type": "code",
   "execution_count": 24,
   "metadata": {},
   "outputs": [
    {
     "data": {
      "text/html": [
       "<div>\n",
       "<style scoped>\n",
       "    .dataframe tbody tr th:only-of-type {\n",
       "        vertical-align: middle;\n",
       "    }\n",
       "\n",
       "    .dataframe tbody tr th {\n",
       "        vertical-align: top;\n",
       "    }\n",
       "\n",
       "    .dataframe thead tr th {\n",
       "        text-align: left;\n",
       "    }\n",
       "</style>\n",
       "<table border=\"1\" class=\"dataframe\">\n",
       "  <thead>\n",
       "    <tr>\n",
       "      <th></th>\n",
       "      <th colspan=\"5\" halign=\"left\">AGG</th>\n",
       "      <th colspan=\"5\" halign=\"left\">SPY</th>\n",
       "    </tr>\n",
       "    <tr>\n",
       "      <th></th>\n",
       "      <th>open</th>\n",
       "      <th>high</th>\n",
       "      <th>low</th>\n",
       "      <th>close</th>\n",
       "      <th>volume</th>\n",
       "      <th>open</th>\n",
       "      <th>high</th>\n",
       "      <th>low</th>\n",
       "      <th>close</th>\n",
       "      <th>volume</th>\n",
       "    </tr>\n",
       "  </thead>\n",
       "  <tbody>\n",
       "    <tr>\n",
       "      <th>2015-08-07 00:00:00-04:00</th>\n",
       "      <td>109.14</td>\n",
       "      <td>109.2750</td>\n",
       "      <td>109.035</td>\n",
       "      <td>109.21</td>\n",
       "      <td>2041167</td>\n",
       "      <td>208.16</td>\n",
       "      <td>208.34</td>\n",
       "      <td>206.87</td>\n",
       "      <td>207.93</td>\n",
       "      <td>87669782</td>\n",
       "    </tr>\n",
       "    <tr>\n",
       "      <th>2015-08-10 00:00:00-04:00</th>\n",
       "      <td>109.15</td>\n",
       "      <td>109.1700</td>\n",
       "      <td>108.920</td>\n",
       "      <td>109.06</td>\n",
       "      <td>1149778</td>\n",
       "      <td>209.28</td>\n",
       "      <td>210.67</td>\n",
       "      <td>209.28</td>\n",
       "      <td>210.58</td>\n",
       "      <td>66755890</td>\n",
       "    </tr>\n",
       "    <tr>\n",
       "      <th>2015-08-11 00:00:00-04:00</th>\n",
       "      <td>109.42</td>\n",
       "      <td>109.5765</td>\n",
       "      <td>109.284</td>\n",
       "      <td>109.42</td>\n",
       "      <td>1420907</td>\n",
       "      <td>208.98</td>\n",
       "      <td>209.47</td>\n",
       "      <td>207.76</td>\n",
       "      <td>208.63</td>\n",
       "      <td>88424557</td>\n",
       "    </tr>\n",
       "    <tr>\n",
       "      <th>2015-08-12 00:00:00-04:00</th>\n",
       "      <td>109.55</td>\n",
       "      <td>109.7100</td>\n",
       "      <td>109.350</td>\n",
       "      <td>109.36</td>\n",
       "      <td>1468979</td>\n",
       "      <td>207.11</td>\n",
       "      <td>209.14</td>\n",
       "      <td>205.36</td>\n",
       "      <td>208.89</td>\n",
       "      <td>136171450</td>\n",
       "    </tr>\n",
       "    <tr>\n",
       "      <th>2015-08-13 00:00:00-04:00</th>\n",
       "      <td>109.36</td>\n",
       "      <td>109.3651</td>\n",
       "      <td>109.110</td>\n",
       "      <td>109.15</td>\n",
       "      <td>1465173</td>\n",
       "      <td>208.73</td>\n",
       "      <td>209.55</td>\n",
       "      <td>208.01</td>\n",
       "      <td>208.63</td>\n",
       "      <td>77197796</td>\n",
       "    </tr>\n",
       "  </tbody>\n",
       "</table>\n",
       "</div>"
      ],
      "text/plain": [
       "                              AGG                                         SPY  \\\n",
       "                             open      high      low   close   volume    open   \n",
       "2015-08-07 00:00:00-04:00  109.14  109.2750  109.035  109.21  2041167  208.16   \n",
       "2015-08-10 00:00:00-04:00  109.15  109.1700  108.920  109.06  1149778  209.28   \n",
       "2015-08-11 00:00:00-04:00  109.42  109.5765  109.284  109.42  1420907  208.98   \n",
       "2015-08-12 00:00:00-04:00  109.55  109.7100  109.350  109.36  1468979  207.11   \n",
       "2015-08-13 00:00:00-04:00  109.36  109.3651  109.110  109.15  1465173  208.73   \n",
       "\n",
       "                                                              \n",
       "                             high     low   close     volume  \n",
       "2015-08-07 00:00:00-04:00  208.34  206.87  207.93   87669782  \n",
       "2015-08-10 00:00:00-04:00  210.67  209.28  210.58   66755890  \n",
       "2015-08-11 00:00:00-04:00  209.47  207.76  208.63   88424557  \n",
       "2015-08-12 00:00:00-04:00  209.14  205.36  208.89  136171450  \n",
       "2015-08-13 00:00:00-04:00  209.55  208.01  208.63   77197796  "
      ]
     },
     "execution_count": 24,
     "metadata": {},
     "output_type": "execute_result"
    }
   ],
   "source": [
    "# Get 5 years' worth of historical data for SPY and AGG\n",
    "# YOUR CODE HERE!\n",
    "df_stock_data = alpaca.get_barset(tickers, timeframe, start=start_date, end=end_date).df\n",
    "\n",
    "# Display sample data\n",
    "df_stock_data.head()"
   ]
  },
  {
   "cell_type": "code",
   "execution_count": 25,
   "metadata": {},
   "outputs": [],
   "source": [
    "# Configuring a Monte Carlo simulation to forecast 30 years cumulative returns\n",
    "# YOUR CODE HERE!\n",
    "MC_thirtyyear = MCSimulation(\n",
    "    portfolio_data = df_stock_data,\n",
    "    weights = [.60,.40],\n",
    "    num_simulation = 500,\n",
    "    num_trading_days = 252*30\n",
    ")"
   ]
  },
  {
   "cell_type": "code",
   "execution_count": 26,
   "metadata": {},
   "outputs": [
    {
     "data": {
      "text/html": [
       "<div>\n",
       "<style scoped>\n",
       "    .dataframe tbody tr th:only-of-type {\n",
       "        vertical-align: middle;\n",
       "    }\n",
       "\n",
       "    .dataframe tbody tr th {\n",
       "        vertical-align: top;\n",
       "    }\n",
       "\n",
       "    .dataframe thead tr th {\n",
       "        text-align: left;\n",
       "    }\n",
       "</style>\n",
       "<table border=\"1\" class=\"dataframe\">\n",
       "  <thead>\n",
       "    <tr>\n",
       "      <th></th>\n",
       "      <th colspan=\"6\" halign=\"left\">AGG</th>\n",
       "      <th colspan=\"6\" halign=\"left\">SPY</th>\n",
       "    </tr>\n",
       "    <tr>\n",
       "      <th></th>\n",
       "      <th>open</th>\n",
       "      <th>high</th>\n",
       "      <th>low</th>\n",
       "      <th>close</th>\n",
       "      <th>volume</th>\n",
       "      <th>daily_return</th>\n",
       "      <th>open</th>\n",
       "      <th>high</th>\n",
       "      <th>low</th>\n",
       "      <th>close</th>\n",
       "      <th>volume</th>\n",
       "      <th>daily_return</th>\n",
       "    </tr>\n",
       "  </thead>\n",
       "  <tbody>\n",
       "    <tr>\n",
       "      <th>2015-08-07 00:00:00-04:00</th>\n",
       "      <td>109.14</td>\n",
       "      <td>109.2750</td>\n",
       "      <td>109.035</td>\n",
       "      <td>109.21</td>\n",
       "      <td>2041167</td>\n",
       "      <td>NaN</td>\n",
       "      <td>208.16</td>\n",
       "      <td>208.34</td>\n",
       "      <td>206.87</td>\n",
       "      <td>207.93</td>\n",
       "      <td>87669782</td>\n",
       "      <td>NaN</td>\n",
       "    </tr>\n",
       "    <tr>\n",
       "      <th>2015-08-10 00:00:00-04:00</th>\n",
       "      <td>109.15</td>\n",
       "      <td>109.1700</td>\n",
       "      <td>108.920</td>\n",
       "      <td>109.06</td>\n",
       "      <td>1149778</td>\n",
       "      <td>-0.001374</td>\n",
       "      <td>209.28</td>\n",
       "      <td>210.67</td>\n",
       "      <td>209.28</td>\n",
       "      <td>210.58</td>\n",
       "      <td>66755890</td>\n",
       "      <td>0.012745</td>\n",
       "    </tr>\n",
       "    <tr>\n",
       "      <th>2015-08-11 00:00:00-04:00</th>\n",
       "      <td>109.42</td>\n",
       "      <td>109.5765</td>\n",
       "      <td>109.284</td>\n",
       "      <td>109.42</td>\n",
       "      <td>1420907</td>\n",
       "      <td>0.003301</td>\n",
       "      <td>208.98</td>\n",
       "      <td>209.47</td>\n",
       "      <td>207.76</td>\n",
       "      <td>208.63</td>\n",
       "      <td>88424557</td>\n",
       "      <td>-0.009260</td>\n",
       "    </tr>\n",
       "    <tr>\n",
       "      <th>2015-08-12 00:00:00-04:00</th>\n",
       "      <td>109.55</td>\n",
       "      <td>109.7100</td>\n",
       "      <td>109.350</td>\n",
       "      <td>109.36</td>\n",
       "      <td>1468979</td>\n",
       "      <td>-0.000548</td>\n",
       "      <td>207.11</td>\n",
       "      <td>209.14</td>\n",
       "      <td>205.36</td>\n",
       "      <td>208.89</td>\n",
       "      <td>136171450</td>\n",
       "      <td>0.001246</td>\n",
       "    </tr>\n",
       "    <tr>\n",
       "      <th>2015-08-13 00:00:00-04:00</th>\n",
       "      <td>109.36</td>\n",
       "      <td>109.3651</td>\n",
       "      <td>109.110</td>\n",
       "      <td>109.15</td>\n",
       "      <td>1465173</td>\n",
       "      <td>-0.001920</td>\n",
       "      <td>208.73</td>\n",
       "      <td>209.55</td>\n",
       "      <td>208.01</td>\n",
       "      <td>208.63</td>\n",
       "      <td>77197796</td>\n",
       "      <td>-0.001245</td>\n",
       "    </tr>\n",
       "  </tbody>\n",
       "</table>\n",
       "</div>"
      ],
      "text/plain": [
       "                              AGG                                      \\\n",
       "                             open      high      low   close   volume   \n",
       "2015-08-07 00:00:00-04:00  109.14  109.2750  109.035  109.21  2041167   \n",
       "2015-08-10 00:00:00-04:00  109.15  109.1700  108.920  109.06  1149778   \n",
       "2015-08-11 00:00:00-04:00  109.42  109.5765  109.284  109.42  1420907   \n",
       "2015-08-12 00:00:00-04:00  109.55  109.7100  109.350  109.36  1468979   \n",
       "2015-08-13 00:00:00-04:00  109.36  109.3651  109.110  109.15  1465173   \n",
       "\n",
       "                                           SPY                          \\\n",
       "                          daily_return    open    high     low   close   \n",
       "2015-08-07 00:00:00-04:00          NaN  208.16  208.34  206.87  207.93   \n",
       "2015-08-10 00:00:00-04:00    -0.001374  209.28  210.67  209.28  210.58   \n",
       "2015-08-11 00:00:00-04:00     0.003301  208.98  209.47  207.76  208.63   \n",
       "2015-08-12 00:00:00-04:00    -0.000548  207.11  209.14  205.36  208.89   \n",
       "2015-08-13 00:00:00-04:00    -0.001920  208.73  209.55  208.01  208.63   \n",
       "\n",
       "                                                   \n",
       "                              volume daily_return  \n",
       "2015-08-07 00:00:00-04:00   87669782          NaN  \n",
       "2015-08-10 00:00:00-04:00   66755890     0.012745  \n",
       "2015-08-11 00:00:00-04:00   88424557    -0.009260  \n",
       "2015-08-12 00:00:00-04:00  136171450     0.001246  \n",
       "2015-08-13 00:00:00-04:00   77197796    -0.001245  "
      ]
     },
     "execution_count": 26,
     "metadata": {},
     "output_type": "execute_result"
    }
   ],
   "source": [
    "# Printing the simulation input data\n",
    "# YOUR CODE HERE!\n",
    "MC_thirtyyear.portfolio_data.head()"
   ]
  },
  {
   "cell_type": "code",
   "execution_count": 27,
   "metadata": {},
   "outputs": [
    {
     "name": "stdout",
     "output_type": "stream",
     "text": [
      "Running Monte Carlo simulation number 0.\n",
      "Running Monte Carlo simulation number 10.\n",
      "Running Monte Carlo simulation number 20.\n",
      "Running Monte Carlo simulation number 30.\n",
      "Running Monte Carlo simulation number 40.\n",
      "Running Monte Carlo simulation number 50.\n",
      "Running Monte Carlo simulation number 60.\n",
      "Running Monte Carlo simulation number 70.\n",
      "Running Monte Carlo simulation number 80.\n",
      "Running Monte Carlo simulation number 90.\n",
      "Running Monte Carlo simulation number 100.\n",
      "Running Monte Carlo simulation number 110.\n",
      "Running Monte Carlo simulation number 120.\n",
      "Running Monte Carlo simulation number 130.\n",
      "Running Monte Carlo simulation number 140.\n",
      "Running Monte Carlo simulation number 150.\n",
      "Running Monte Carlo simulation number 160.\n",
      "Running Monte Carlo simulation number 170.\n",
      "Running Monte Carlo simulation number 180.\n",
      "Running Monte Carlo simulation number 190.\n",
      "Running Monte Carlo simulation number 200.\n",
      "Running Monte Carlo simulation number 210.\n",
      "Running Monte Carlo simulation number 220.\n",
      "Running Monte Carlo simulation number 230.\n",
      "Running Monte Carlo simulation number 240.\n",
      "Running Monte Carlo simulation number 250.\n",
      "Running Monte Carlo simulation number 260.\n",
      "Running Monte Carlo simulation number 270.\n",
      "Running Monte Carlo simulation number 280.\n",
      "Running Monte Carlo simulation number 290.\n",
      "Running Monte Carlo simulation number 300.\n",
      "Running Monte Carlo simulation number 310.\n",
      "Running Monte Carlo simulation number 320.\n",
      "Running Monte Carlo simulation number 330.\n",
      "Running Monte Carlo simulation number 340.\n",
      "Running Monte Carlo simulation number 350.\n",
      "Running Monte Carlo simulation number 360.\n",
      "Running Monte Carlo simulation number 370.\n",
      "Running Monte Carlo simulation number 380.\n",
      "Running Monte Carlo simulation number 390.\n",
      "Running Monte Carlo simulation number 400.\n",
      "Running Monte Carlo simulation number 410.\n",
      "Running Monte Carlo simulation number 420.\n",
      "Running Monte Carlo simulation number 430.\n",
      "Running Monte Carlo simulation number 440.\n",
      "Running Monte Carlo simulation number 450.\n",
      "Running Monte Carlo simulation number 460.\n",
      "Running Monte Carlo simulation number 470.\n",
      "Running Monte Carlo simulation number 480.\n",
      "Running Monte Carlo simulation number 490.\n"
     ]
    },
    {
     "data": {
      "text/html": [
       "<div>\n",
       "<style scoped>\n",
       "    .dataframe tbody tr th:only-of-type {\n",
       "        vertical-align: middle;\n",
       "    }\n",
       "\n",
       "    .dataframe tbody tr th {\n",
       "        vertical-align: top;\n",
       "    }\n",
       "\n",
       "    .dataframe thead th {\n",
       "        text-align: right;\n",
       "    }\n",
       "</style>\n",
       "<table border=\"1\" class=\"dataframe\">\n",
       "  <thead>\n",
       "    <tr style=\"text-align: right;\">\n",
       "      <th></th>\n",
       "      <th>0</th>\n",
       "      <th>1</th>\n",
       "      <th>2</th>\n",
       "      <th>3</th>\n",
       "      <th>4</th>\n",
       "      <th>5</th>\n",
       "      <th>6</th>\n",
       "      <th>7</th>\n",
       "      <th>8</th>\n",
       "      <th>9</th>\n",
       "      <th>...</th>\n",
       "      <th>490</th>\n",
       "      <th>491</th>\n",
       "      <th>492</th>\n",
       "      <th>493</th>\n",
       "      <th>494</th>\n",
       "      <th>495</th>\n",
       "      <th>496</th>\n",
       "      <th>497</th>\n",
       "      <th>498</th>\n",
       "      <th>499</th>\n",
       "    </tr>\n",
       "  </thead>\n",
       "  <tbody>\n",
       "    <tr>\n",
       "      <th>0</th>\n",
       "      <td>1.000000</td>\n",
       "      <td>1.000000</td>\n",
       "      <td>1.000000</td>\n",
       "      <td>1.000000</td>\n",
       "      <td>1.000000</td>\n",
       "      <td>1.000000</td>\n",
       "      <td>1.000000</td>\n",
       "      <td>1.000000</td>\n",
       "      <td>1.000000</td>\n",
       "      <td>1.000000</td>\n",
       "      <td>...</td>\n",
       "      <td>1.000000</td>\n",
       "      <td>1.000000</td>\n",
       "      <td>1.000000</td>\n",
       "      <td>1.000000</td>\n",
       "      <td>1.000000</td>\n",
       "      <td>1.000000</td>\n",
       "      <td>1.000000</td>\n",
       "      <td>1.000000</td>\n",
       "      <td>1.000000</td>\n",
       "      <td>1.000000</td>\n",
       "    </tr>\n",
       "    <tr>\n",
       "      <th>1</th>\n",
       "      <td>1.000641</td>\n",
       "      <td>1.009818</td>\n",
       "      <td>0.996349</td>\n",
       "      <td>0.999658</td>\n",
       "      <td>1.004344</td>\n",
       "      <td>1.004556</td>\n",
       "      <td>1.000274</td>\n",
       "      <td>0.998049</td>\n",
       "      <td>0.993749</td>\n",
       "      <td>0.999262</td>\n",
       "      <td>...</td>\n",
       "      <td>1.003177</td>\n",
       "      <td>1.003211</td>\n",
       "      <td>0.996090</td>\n",
       "      <td>0.997434</td>\n",
       "      <td>1.004097</td>\n",
       "      <td>1.004859</td>\n",
       "      <td>1.001091</td>\n",
       "      <td>0.993736</td>\n",
       "      <td>0.997485</td>\n",
       "      <td>0.996614</td>\n",
       "    </tr>\n",
       "    <tr>\n",
       "      <th>2</th>\n",
       "      <td>0.996536</td>\n",
       "      <td>1.018017</td>\n",
       "      <td>1.000011</td>\n",
       "      <td>1.004754</td>\n",
       "      <td>1.005567</td>\n",
       "      <td>1.011137</td>\n",
       "      <td>1.008190</td>\n",
       "      <td>0.993426</td>\n",
       "      <td>0.991067</td>\n",
       "      <td>0.997030</td>\n",
       "      <td>...</td>\n",
       "      <td>1.008768</td>\n",
       "      <td>1.003525</td>\n",
       "      <td>1.008005</td>\n",
       "      <td>0.995256</td>\n",
       "      <td>0.994912</td>\n",
       "      <td>1.004511</td>\n",
       "      <td>0.998525</td>\n",
       "      <td>0.985480</td>\n",
       "      <td>0.993810</td>\n",
       "      <td>0.997255</td>\n",
       "    </tr>\n",
       "    <tr>\n",
       "      <th>3</th>\n",
       "      <td>0.998914</td>\n",
       "      <td>1.016456</td>\n",
       "      <td>1.003570</td>\n",
       "      <td>1.004958</td>\n",
       "      <td>1.006964</td>\n",
       "      <td>1.022601</td>\n",
       "      <td>1.004816</td>\n",
       "      <td>0.992330</td>\n",
       "      <td>0.998532</td>\n",
       "      <td>0.993739</td>\n",
       "      <td>...</td>\n",
       "      <td>1.012191</td>\n",
       "      <td>0.997869</td>\n",
       "      <td>1.019430</td>\n",
       "      <td>0.991660</td>\n",
       "      <td>0.993170</td>\n",
       "      <td>1.006600</td>\n",
       "      <td>0.998225</td>\n",
       "      <td>0.986917</td>\n",
       "      <td>0.997659</td>\n",
       "      <td>0.998968</td>\n",
       "    </tr>\n",
       "    <tr>\n",
       "      <th>4</th>\n",
       "      <td>0.987616</td>\n",
       "      <td>1.014941</td>\n",
       "      <td>0.998605</td>\n",
       "      <td>1.001381</td>\n",
       "      <td>1.013551</td>\n",
       "      <td>1.027436</td>\n",
       "      <td>1.009714</td>\n",
       "      <td>0.999501</td>\n",
       "      <td>0.997455</td>\n",
       "      <td>0.993196</td>\n",
       "      <td>...</td>\n",
       "      <td>1.003305</td>\n",
       "      <td>1.007551</td>\n",
       "      <td>1.022900</td>\n",
       "      <td>0.990568</td>\n",
       "      <td>0.995545</td>\n",
       "      <td>1.012558</td>\n",
       "      <td>1.003508</td>\n",
       "      <td>0.980617</td>\n",
       "      <td>0.991647</td>\n",
       "      <td>1.006990</td>\n",
       "    </tr>\n",
       "    <tr>\n",
       "      <th>...</th>\n",
       "      <td>...</td>\n",
       "      <td>...</td>\n",
       "      <td>...</td>\n",
       "      <td>...</td>\n",
       "      <td>...</td>\n",
       "      <td>...</td>\n",
       "      <td>...</td>\n",
       "      <td>...</td>\n",
       "      <td>...</td>\n",
       "      <td>...</td>\n",
       "      <td>...</td>\n",
       "      <td>...</td>\n",
       "      <td>...</td>\n",
       "      <td>...</td>\n",
       "      <td>...</td>\n",
       "      <td>...</td>\n",
       "      <td>...</td>\n",
       "      <td>...</td>\n",
       "      <td>...</td>\n",
       "      <td>...</td>\n",
       "      <td>...</td>\n",
       "    </tr>\n",
       "    <tr>\n",
       "      <th>7556</th>\n",
       "      <td>6.883720</td>\n",
       "      <td>3.333095</td>\n",
       "      <td>2.420614</td>\n",
       "      <td>1.872824</td>\n",
       "      <td>5.801773</td>\n",
       "      <td>5.168548</td>\n",
       "      <td>3.431518</td>\n",
       "      <td>6.966657</td>\n",
       "      <td>3.722511</td>\n",
       "      <td>9.734847</td>\n",
       "      <td>...</td>\n",
       "      <td>5.491238</td>\n",
       "      <td>3.660752</td>\n",
       "      <td>9.315586</td>\n",
       "      <td>11.885237</td>\n",
       "      <td>6.540397</td>\n",
       "      <td>7.109036</td>\n",
       "      <td>2.427498</td>\n",
       "      <td>1.632770</td>\n",
       "      <td>8.661944</td>\n",
       "      <td>4.907101</td>\n",
       "    </tr>\n",
       "    <tr>\n",
       "      <th>7557</th>\n",
       "      <td>6.860333</td>\n",
       "      <td>3.364743</td>\n",
       "      <td>2.415522</td>\n",
       "      <td>1.886042</td>\n",
       "      <td>5.793505</td>\n",
       "      <td>5.152519</td>\n",
       "      <td>3.448661</td>\n",
       "      <td>7.006061</td>\n",
       "      <td>3.691564</td>\n",
       "      <td>9.777313</td>\n",
       "      <td>...</td>\n",
       "      <td>5.515021</td>\n",
       "      <td>3.677693</td>\n",
       "      <td>9.335626</td>\n",
       "      <td>11.796389</td>\n",
       "      <td>6.523086</td>\n",
       "      <td>7.074584</td>\n",
       "      <td>2.434912</td>\n",
       "      <td>1.630272</td>\n",
       "      <td>8.688944</td>\n",
       "      <td>4.898379</td>\n",
       "    </tr>\n",
       "    <tr>\n",
       "      <th>7558</th>\n",
       "      <td>6.844149</td>\n",
       "      <td>3.384726</td>\n",
       "      <td>2.420450</td>\n",
       "      <td>1.894440</td>\n",
       "      <td>5.803535</td>\n",
       "      <td>5.121179</td>\n",
       "      <td>3.455248</td>\n",
       "      <td>7.018311</td>\n",
       "      <td>3.698765</td>\n",
       "      <td>9.798607</td>\n",
       "      <td>...</td>\n",
       "      <td>5.477727</td>\n",
       "      <td>3.683251</td>\n",
       "      <td>9.457899</td>\n",
       "      <td>11.767941</td>\n",
       "      <td>6.494093</td>\n",
       "      <td>7.111429</td>\n",
       "      <td>2.397703</td>\n",
       "      <td>1.631254</td>\n",
       "      <td>8.712949</td>\n",
       "      <td>4.911513</td>\n",
       "    </tr>\n",
       "    <tr>\n",
       "      <th>7559</th>\n",
       "      <td>6.872484</td>\n",
       "      <td>3.368437</td>\n",
       "      <td>2.418380</td>\n",
       "      <td>1.891868</td>\n",
       "      <td>5.813333</td>\n",
       "      <td>5.144946</td>\n",
       "      <td>3.440724</td>\n",
       "      <td>6.994244</td>\n",
       "      <td>3.709093</td>\n",
       "      <td>9.858003</td>\n",
       "      <td>...</td>\n",
       "      <td>5.524382</td>\n",
       "      <td>3.672970</td>\n",
       "      <td>9.487304</td>\n",
       "      <td>11.802143</td>\n",
       "      <td>6.500566</td>\n",
       "      <td>7.117082</td>\n",
       "      <td>2.398785</td>\n",
       "      <td>1.615267</td>\n",
       "      <td>8.746893</td>\n",
       "      <td>4.925898</td>\n",
       "    </tr>\n",
       "    <tr>\n",
       "      <th>7560</th>\n",
       "      <td>6.865347</td>\n",
       "      <td>3.380934</td>\n",
       "      <td>2.423993</td>\n",
       "      <td>1.872865</td>\n",
       "      <td>5.816137</td>\n",
       "      <td>5.188188</td>\n",
       "      <td>3.429890</td>\n",
       "      <td>7.020560</td>\n",
       "      <td>3.715218</td>\n",
       "      <td>9.815911</td>\n",
       "      <td>...</td>\n",
       "      <td>5.536079</td>\n",
       "      <td>3.662275</td>\n",
       "      <td>9.500743</td>\n",
       "      <td>11.722061</td>\n",
       "      <td>6.480450</td>\n",
       "      <td>7.132562</td>\n",
       "      <td>2.388919</td>\n",
       "      <td>1.604774</td>\n",
       "      <td>8.815382</td>\n",
       "      <td>4.960674</td>\n",
       "    </tr>\n",
       "  </tbody>\n",
       "</table>\n",
       "<p>7561 rows × 500 columns</p>\n",
       "</div>"
      ],
      "text/plain": [
       "           0         1         2         3         4         5         6    \\\n",
       "0     1.000000  1.000000  1.000000  1.000000  1.000000  1.000000  1.000000   \n",
       "1     1.000641  1.009818  0.996349  0.999658  1.004344  1.004556  1.000274   \n",
       "2     0.996536  1.018017  1.000011  1.004754  1.005567  1.011137  1.008190   \n",
       "3     0.998914  1.016456  1.003570  1.004958  1.006964  1.022601  1.004816   \n",
       "4     0.987616  1.014941  0.998605  1.001381  1.013551  1.027436  1.009714   \n",
       "...        ...       ...       ...       ...       ...       ...       ...   \n",
       "7556  6.883720  3.333095  2.420614  1.872824  5.801773  5.168548  3.431518   \n",
       "7557  6.860333  3.364743  2.415522  1.886042  5.793505  5.152519  3.448661   \n",
       "7558  6.844149  3.384726  2.420450  1.894440  5.803535  5.121179  3.455248   \n",
       "7559  6.872484  3.368437  2.418380  1.891868  5.813333  5.144946  3.440724   \n",
       "7560  6.865347  3.380934  2.423993  1.872865  5.816137  5.188188  3.429890   \n",
       "\n",
       "           7         8         9    ...       490       491       492  \\\n",
       "0     1.000000  1.000000  1.000000  ...  1.000000  1.000000  1.000000   \n",
       "1     0.998049  0.993749  0.999262  ...  1.003177  1.003211  0.996090   \n",
       "2     0.993426  0.991067  0.997030  ...  1.008768  1.003525  1.008005   \n",
       "3     0.992330  0.998532  0.993739  ...  1.012191  0.997869  1.019430   \n",
       "4     0.999501  0.997455  0.993196  ...  1.003305  1.007551  1.022900   \n",
       "...        ...       ...       ...  ...       ...       ...       ...   \n",
       "7556  6.966657  3.722511  9.734847  ...  5.491238  3.660752  9.315586   \n",
       "7557  7.006061  3.691564  9.777313  ...  5.515021  3.677693  9.335626   \n",
       "7558  7.018311  3.698765  9.798607  ...  5.477727  3.683251  9.457899   \n",
       "7559  6.994244  3.709093  9.858003  ...  5.524382  3.672970  9.487304   \n",
       "7560  7.020560  3.715218  9.815911  ...  5.536079  3.662275  9.500743   \n",
       "\n",
       "            493       494       495       496       497       498       499  \n",
       "0      1.000000  1.000000  1.000000  1.000000  1.000000  1.000000  1.000000  \n",
       "1      0.997434  1.004097  1.004859  1.001091  0.993736  0.997485  0.996614  \n",
       "2      0.995256  0.994912  1.004511  0.998525  0.985480  0.993810  0.997255  \n",
       "3      0.991660  0.993170  1.006600  0.998225  0.986917  0.997659  0.998968  \n",
       "4      0.990568  0.995545  1.012558  1.003508  0.980617  0.991647  1.006990  \n",
       "...         ...       ...       ...       ...       ...       ...       ...  \n",
       "7556  11.885237  6.540397  7.109036  2.427498  1.632770  8.661944  4.907101  \n",
       "7557  11.796389  6.523086  7.074584  2.434912  1.630272  8.688944  4.898379  \n",
       "7558  11.767941  6.494093  7.111429  2.397703  1.631254  8.712949  4.911513  \n",
       "7559  11.802143  6.500566  7.117082  2.398785  1.615267  8.746893  4.925898  \n",
       "7560  11.722061  6.480450  7.132562  2.388919  1.604774  8.815382  4.960674  \n",
       "\n",
       "[7561 rows x 500 columns]"
      ]
     },
     "execution_count": 27,
     "metadata": {},
     "output_type": "execute_result"
    }
   ],
   "source": [
    "# Running a Monte Carlo simulation to forecast 30 years cumulative returns\n",
    "# YOUR CODE HERE!\n",
    "MC_thirtyyear.calc_cumulative_return()"
   ]
  },
  {
   "cell_type": "code",
   "execution_count": 34,
   "metadata": {},
   "outputs": [
    {
     "data": {
      "image/png": "[encoded data removed]",
      "text/plain": [
       "<Figure size 432x288 with 1 Axes>"
      ]
     },
     "metadata": {
      "needs_background": "light"
     },
     "output_type": "display_data"
    }
   ],
   "source": [
    "# Plot simulation outcomes\n",
    "# YOUR CODE HERE!\n",
    "line_plot = MC_thirtyyear.plot_simulation()"
   ]
  },
  {
   "cell_type": "code",
   "execution_count": 32,
   "metadata": {},
   "outputs": [
    {
     "data": {
      "image/png": "[encoded data removed]",
      "text/plain": [
       "<Figure size 432x288 with 1 Axes>"
      ]
     },
     "metadata": {
      "needs_background": "light"
     },
     "output_type": "display_data"
    }
   ],
   "source": [
    "# Plot probability distribution and confidence intervals\n",
    "# YOUR CODE HERE!\n",
    "dist_plot = MC_thirtyyear.plot_distribution()"
   ]
  },
  {
   "cell_type": "markdown",
   "metadata": {},
   "source": [
    "### Retirement Analysis"
   ]
  },
  {
   "cell_type": "code",
   "execution_count": 35,
   "metadata": {},
   "outputs": [
    {
     "name": "stdout",
     "output_type": "stream",
     "text": [
      "count           500.000000\n",
      "mean              5.361670\n",
      "std               2.430678\n",
      "min               1.072180\n",
      "25%               3.637556\n",
      "50%               4.838454\n",
      "75%               6.687424\n",
      "max              21.603270\n",
      "95% CI Lower      2.143976\n",
      "95% CI Upper     11.157232\n",
      "Name: 7560, dtype: float64\n"
     ]
    }
   ],
   "source": [
    "# Fetch summary statistics from the Monte Carlo simulation results\n",
    "# YOUR CODE HERE!\n",
    "tbl = MC_thirtyyear.summarize_cumulative_return()\n",
    "\n",
    "# Print summary statistics\n",
    "print(tbl)"
   ]
  },
  {
   "cell_type": "markdown",
   "metadata": {},
   "source": [
    "### Given an initial investment of $20,000, what is the expected portfolio return in dollars at the 95% lower and upper confidence intervals?"
   ]
  },
  {
   "cell_type": "code",
   "execution_count": 36,
   "metadata": {},
   "outputs": [
    {
     "name": "stdout",
     "output_type": "stream",
     "text": [
      "There is a 95% chance that an initial investment of $20000 in the portfolio over the next 30 years will end within in the range of $42800.0 and $223200.0\n"
     ]
    }
   ],
   "source": [
    "# Set initial investment\n",
    "initial_investment = 20000\n",
    "\n",
    "# Use the lower and upper `95%` confidence intervals to calculate the range of the possible outcomes of our $20,000\n",
    "# YOUR CODE HERE!\n",
    "ci_lower = initial_investment *round(tbl[8],2)\n",
    "ci_upper = initial_investment * round (tbl[9],2)\n",
    "\n",
    "# Print results\n",
    "print(f\"There is a 95% chance that an initial investment of ${initial_investment} in the portfolio\"\n",
    "      f\" over the next 30 years will end within in the range of\"\n",
    "      f\" ${ci_lower} and ${ci_upper}\")"
   ]
  },
  {
   "cell_type": "markdown",
   "metadata": {},
   "source": [
    "### How would a 50% increase in the initial investment amount affect the expected portfolio return in dollars at the 95% lower and upper confidence intervals?"
   ]
  },
  {
   "cell_type": "code",
   "execution_count": 37,
   "metadata": {},
   "outputs": [
    {
     "name": "stdout",
     "output_type": "stream",
     "text": [
      "There is a 95% chance that an initial investment of $30000.0 in the portfolio over the next 30 years will end within in the range of $64200.00000000001 and $334800.0\n"
     ]
    }
   ],
   "source": [
    "# Set initial investment\n",
    "initial_investment = 20000 * 1.5\n",
    "\n",
    "# Use the lower and upper `95%` confidence intervals to calculate the range of the possible outcomes of our $30,000\n",
    "# YOUR CODE HERE!\n",
    "ci_lower = initial_investment * round(tbl[8],2)\n",
    "ci_upper = initial_investment * round(tbl[9],2)\n",
    "\n",
    "# Print results\n",
    "print(f\"There is a 95% chance that an initial investment of ${initial_investment} in the portfolio\"\n",
    "      f\" over the next 30 years will end within in the range of\"\n",
    "      f\" ${ci_lower} and ${ci_upper}\")"
   ]
  },
  {
   "cell_type": "markdown",
   "metadata": {},
   "source": [
    "## Optional Challenge - Early Retirement\n",
    "\n",
    "\n",
    "### Five Years Retirement Option"
   ]
  },
  {
   "cell_type": "code",
   "execution_count": null,
   "metadata": {},
   "outputs": [],
   "source": [
    "# Configuring a Monte Carlo simulation to forecast 5 years cumulative returns\n",
    "# YOUR CODE HERE!"
   ]
  },
  {
   "cell_type": "code",
   "execution_count": null,
   "metadata": {},
   "outputs": [],
   "source": [
    "# Running a Monte Carlo simulation to forecast 5 years cumulative returns\n",
    "# YOUR CODE HERE!"
   ]
  },
  {
   "cell_type": "code",
   "execution_count": null,
   "metadata": {},
   "outputs": [],
   "source": [
    "# Plot simulation outcomes\n",
    "# YOUR CODE HERE!"
   ]
  },
  {
   "cell_type": "code",
   "execution_count": null,
   "metadata": {},
   "outputs": [],
   "source": [
    "# Plot probability distribution and confidence intervals\n",
    "# YOUR CODE HERE!"
   ]
  },
  {
   "cell_type": "code",
   "execution_count": 28,
   "metadata": {},
   "outputs": [
    {
     "name": "stdout",
     "output_type": "stream",
     "text": [
      "count           500.000000\n",
      "mean              1.202273\n",
      "std               0.145565\n",
      "min               0.856322\n",
      "25%               1.100622\n",
      "50%               1.197687\n",
      "75%               1.292270\n",
      "max               1.695081\n",
      "95% CI Lower      0.928556\n",
      "95% CI Upper      1.517173\n",
      "Name: 1260, dtype: float64\n"
     ]
    }
   ],
   "source": [
    "# Fetch summary statistics from the Monte Carlo simulation results\n",
    "# YOUR CODE HERE!\n",
    "\n",
    "# Print summary statistics\n",
    "print(tbl_five)"
   ]
  },
  {
   "cell_type": "code",
   "execution_count": 29,
   "metadata": {},
   "outputs": [
    {
     "name": "stdout",
     "output_type": "stream",
     "text": [
      "There is a 95% chance that an initial investment of $60000 in the portfolio over the next 30 years will end within in the range of $55713.36 and $91030.38\n"
     ]
    }
   ],
   "source": [
    "# Set initial investment\n",
    "# YOUR CODE HERE!\n",
    "\n",
    "# Use the lower and upper `95%` confidence intervals to calculate the range of the possible outcomes of our $60,000\n",
    "# YOUR CODE HERE!\n",
    "\n",
    "# Print results\n",
    "print(f\"There is a 95% chance that an initial investment of ${initial_investment} in the portfolio\"\n",
    "      f\" over the next 5 years will end within in the range of\"\n",
    "      f\" ${ci_lower_five} and ${ci_upper_five}\")"
   ]
  },
  {
   "cell_type": "markdown",
   "metadata": {},
   "source": [
    "### Ten Years Retirement Option"
   ]
  },
  {
   "cell_type": "code",
   "execution_count": 14,
   "metadata": {},
   "outputs": [
    {
     "ename": "NameError",
     "evalue": "name 'MCSimulation' is not defined",
     "output_type": "error",
     "traceback": [
      "\u001b[0;31m---------------------------------------------------------------------------\u001b[0m",
      "\u001b[0;31mNameError\u001b[0m                                 Traceback (most recent call last)",
      "\u001b[0;32m<ipython-input-14-19bdc03ec5f7>\u001b[0m in \u001b[0;36m<module>\u001b[0;34m\u001b[0m\n\u001b[1;32m      1\u001b[0m \u001b[0;31m# Configuring a Monte Carlo simulation to forecast 10 years cumulative returns\u001b[0m\u001b[0;34m\u001b[0m\u001b[0;34m\u001b[0m\u001b[0;34m\u001b[0m\u001b[0m\n\u001b[1;32m      2\u001b[0m \u001b[0;31m# YOUR CODE HERE!\u001b[0m\u001b[0;34m\u001b[0m\u001b[0;34m\u001b[0m\u001b[0;34m\u001b[0m\u001b[0m\n\u001b[0;32m----> 3\u001b[0;31m MC_tenyear = MCSimulation(\n\u001b[0m\u001b[1;32m      4\u001b[0m     \u001b[0mportfolio_data\u001b[0m \u001b[0;34m=\u001b[0m \u001b[0mdf_stock_data\u001b[0m\u001b[0;34m,\u001b[0m\u001b[0;34m\u001b[0m\u001b[0;34m\u001b[0m\u001b[0m\n\u001b[1;32m      5\u001b[0m     \u001b[0mweights\u001b[0m \u001b[0;34m=\u001b[0m \u001b[0;34m[\u001b[0m\u001b[0;36m.60\u001b[0m\u001b[0;34m,\u001b[0m\u001b[0;36m.40\u001b[0m\u001b[0;34m]\u001b[0m\u001b[0;34m,\u001b[0m\u001b[0;34m\u001b[0m\u001b[0;34m\u001b[0m\u001b[0m\n",
      "\u001b[0;31mNameError\u001b[0m: name 'MCSimulation' is not defined"
     ]
    }
   ],
   "source": [
    "# Configuring a Monte Carlo simulation to forecast 10 years cumulative returns\n",
    "# YOUR CODE HERE!\n",
    "MC_tenyear = MCSimulation(\n",
    "    portfolio_data = df_stock_data,\n",
    "    weights = [.60,.40],\n",
    "    num_simulation = 500,\n",
    "    num_trading_days = 252*10)"
   ]
  },
  {
   "cell_type": "code",
   "execution_count": 31,
   "metadata": {},
   "outputs": [
    {
     "name": "stdout",
     "output_type": "stream",
     "text": [
      "Running Monte Carlo simulation number 0.\n",
      "Running Monte Carlo simulation number 10.\n",
      "Running Monte Carlo simulation number 20.\n",
      "Running Monte Carlo simulation number 30.\n",
      "Running Monte Carlo simulation number 40.\n",
      "Running Monte Carlo simulation number 50.\n",
      "Running Monte Carlo simulation number 60.\n",
      "Running Monte Carlo simulation number 70.\n",
      "Running Monte Carlo simulation number 80.\n",
      "Running Monte Carlo simulation number 90.\n",
      "Running Monte Carlo simulation number 100.\n",
      "Running Monte Carlo simulation number 110.\n",
      "Running Monte Carlo simulation number 120.\n",
      "Running Monte Carlo simulation number 130.\n",
      "Running Monte Carlo simulation number 140.\n",
      "Running Monte Carlo simulation number 150.\n",
      "Running Monte Carlo simulation number 160.\n",
      "Running Monte Carlo simulation number 170.\n",
      "Running Monte Carlo simulation number 180.\n",
      "Running Monte Carlo simulation number 190.\n",
      "Running Monte Carlo simulation number 200.\n",
      "Running Monte Carlo simulation number 210.\n",
      "Running Monte Carlo simulation number 220.\n",
      "Running Monte Carlo simulation number 230.\n",
      "Running Monte Carlo simulation number 240.\n",
      "Running Monte Carlo simulation number 250.\n",
      "Running Monte Carlo simulation number 260.\n",
      "Running Monte Carlo simulation number 270.\n",
      "Running Monte Carlo simulation number 280.\n",
      "Running Monte Carlo simulation number 290.\n",
      "Running Monte Carlo simulation number 300.\n",
      "Running Monte Carlo simulation number 310.\n",
      "Running Monte Carlo simulation number 320.\n",
      "Running Monte Carlo simulation number 330.\n",
      "Running Monte Carlo simulation number 340.\n",
      "Running Monte Carlo simulation number 350.\n",
      "Running Monte Carlo simulation number 360.\n",
      "Running Monte Carlo simulation number 370.\n",
      "Running Monte Carlo simulation number 380.\n",
      "Running Monte Carlo simulation number 390.\n",
      "Running Monte Carlo simulation number 400.\n",
      "Running Monte Carlo simulation number 410.\n",
      "Running Monte Carlo simulation number 420.\n",
      "Running Monte Carlo simulation number 430.\n",
      "Running Monte Carlo simulation number 440.\n",
      "Running Monte Carlo simulation number 450.\n",
      "Running Monte Carlo simulation number 460.\n",
      "Running Monte Carlo simulation number 470.\n",
      "Running Monte Carlo simulation number 480.\n",
      "Running Monte Carlo simulation number 490.\n"
     ]
    },
    {
     "data": {
      "text/html": [
       "<div>\n",
       "<style scoped>\n",
       "    .dataframe tbody tr th:only-of-type {\n",
       "        vertical-align: middle;\n",
       "    }\n",
       "\n",
       "    .dataframe tbody tr th {\n",
       "        vertical-align: top;\n",
       "    }\n",
       "\n",
       "    .dataframe thead th {\n",
       "        text-align: right;\n",
       "    }\n",
       "</style>\n",
       "<table border=\"1\" class=\"dataframe\">\n",
       "  <thead>\n",
       "    <tr style=\"text-align: right;\">\n",
       "      <th></th>\n",
       "      <th>0</th>\n",
       "      <th>1</th>\n",
       "      <th>2</th>\n",
       "      <th>3</th>\n",
       "      <th>4</th>\n",
       "      <th>5</th>\n",
       "      <th>6</th>\n",
       "      <th>7</th>\n",
       "      <th>8</th>\n",
       "      <th>9</th>\n",
       "      <th>...</th>\n",
       "      <th>490</th>\n",
       "      <th>491</th>\n",
       "      <th>492</th>\n",
       "      <th>493</th>\n",
       "      <th>494</th>\n",
       "      <th>495</th>\n",
       "      <th>496</th>\n",
       "      <th>497</th>\n",
       "      <th>498</th>\n",
       "      <th>499</th>\n",
       "    </tr>\n",
       "  </thead>\n",
       "  <tbody>\n",
       "    <tr>\n",
       "      <th>0</th>\n",
       "      <td>1.000000</td>\n",
       "      <td>1.000000</td>\n",
       "      <td>1.000000</td>\n",
       "      <td>1.000000</td>\n",
       "      <td>1.000000</td>\n",
       "      <td>1.000000</td>\n",
       "      <td>1.000000</td>\n",
       "      <td>1.000000</td>\n",
       "      <td>1.000000</td>\n",
       "      <td>1.000000</td>\n",
       "      <td>...</td>\n",
       "      <td>1.000000</td>\n",
       "      <td>1.000000</td>\n",
       "      <td>1.000000</td>\n",
       "      <td>1.000000</td>\n",
       "      <td>1.000000</td>\n",
       "      <td>1.000000</td>\n",
       "      <td>1.000000</td>\n",
       "      <td>1.000000</td>\n",
       "      <td>1.000000</td>\n",
       "      <td>1.000000</td>\n",
       "    </tr>\n",
       "    <tr>\n",
       "      <th>1</th>\n",
       "      <td>0.997817</td>\n",
       "      <td>0.998428</td>\n",
       "      <td>1.000816</td>\n",
       "      <td>1.000202</td>\n",
       "      <td>1.002120</td>\n",
       "      <td>0.998788</td>\n",
       "      <td>1.004226</td>\n",
       "      <td>1.004250</td>\n",
       "      <td>1.001431</td>\n",
       "      <td>1.000740</td>\n",
       "      <td>...</td>\n",
       "      <td>0.995519</td>\n",
       "      <td>1.001253</td>\n",
       "      <td>1.000492</td>\n",
       "      <td>0.994026</td>\n",
       "      <td>1.006129</td>\n",
       "      <td>1.002356</td>\n",
       "      <td>1.005233</td>\n",
       "      <td>0.999769</td>\n",
       "      <td>1.002106</td>\n",
       "      <td>1.003746</td>\n",
       "    </tr>\n",
       "    <tr>\n",
       "      <th>2</th>\n",
       "      <td>0.994703</td>\n",
       "      <td>0.996223</td>\n",
       "      <td>1.001987</td>\n",
       "      <td>0.998816</td>\n",
       "      <td>1.002372</td>\n",
       "      <td>0.996708</td>\n",
       "      <td>1.009074</td>\n",
       "      <td>1.006986</td>\n",
       "      <td>1.006219</td>\n",
       "      <td>0.995591</td>\n",
       "      <td>...</td>\n",
       "      <td>0.991815</td>\n",
       "      <td>1.001091</td>\n",
       "      <td>1.003774</td>\n",
       "      <td>0.989341</td>\n",
       "      <td>1.007530</td>\n",
       "      <td>1.009809</td>\n",
       "      <td>1.007273</td>\n",
       "      <td>0.999666</td>\n",
       "      <td>1.006340</td>\n",
       "      <td>0.998303</td>\n",
       "    </tr>\n",
       "    <tr>\n",
       "      <th>3</th>\n",
       "      <td>0.994115</td>\n",
       "      <td>0.993375</td>\n",
       "      <td>0.992622</td>\n",
       "      <td>1.001069</td>\n",
       "      <td>0.999700</td>\n",
       "      <td>1.000123</td>\n",
       "      <td>1.011610</td>\n",
       "      <td>1.009254</td>\n",
       "      <td>1.012194</td>\n",
       "      <td>0.998619</td>\n",
       "      <td>...</td>\n",
       "      <td>0.992699</td>\n",
       "      <td>1.003085</td>\n",
       "      <td>1.005997</td>\n",
       "      <td>0.991536</td>\n",
       "      <td>1.004239</td>\n",
       "      <td>1.010765</td>\n",
       "      <td>1.009501</td>\n",
       "      <td>0.999652</td>\n",
       "      <td>1.011737</td>\n",
       "      <td>0.998762</td>\n",
       "    </tr>\n",
       "    <tr>\n",
       "      <th>4</th>\n",
       "      <td>0.999040</td>\n",
       "      <td>0.997821</td>\n",
       "      <td>0.992272</td>\n",
       "      <td>0.999767</td>\n",
       "      <td>1.000459</td>\n",
       "      <td>1.006178</td>\n",
       "      <td>1.008906</td>\n",
       "      <td>1.009897</td>\n",
       "      <td>1.014282</td>\n",
       "      <td>0.995619</td>\n",
       "      <td>...</td>\n",
       "      <td>0.997683</td>\n",
       "      <td>1.007825</td>\n",
       "      <td>1.007858</td>\n",
       "      <td>0.991188</td>\n",
       "      <td>1.009171</td>\n",
       "      <td>1.009303</td>\n",
       "      <td>1.008223</td>\n",
       "      <td>1.003270</td>\n",
       "      <td>1.014350</td>\n",
       "      <td>1.001691</td>\n",
       "    </tr>\n",
       "    <tr>\n",
       "      <th>...</th>\n",
       "      <td>...</td>\n",
       "      <td>...</td>\n",
       "      <td>...</td>\n",
       "      <td>...</td>\n",
       "      <td>...</td>\n",
       "      <td>...</td>\n",
       "      <td>...</td>\n",
       "      <td>...</td>\n",
       "      <td>...</td>\n",
       "      <td>...</td>\n",
       "      <td>...</td>\n",
       "      <td>...</td>\n",
       "      <td>...</td>\n",
       "      <td>...</td>\n",
       "      <td>...</td>\n",
       "      <td>...</td>\n",
       "      <td>...</td>\n",
       "      <td>...</td>\n",
       "      <td>...</td>\n",
       "      <td>...</td>\n",
       "      <td>...</td>\n",
       "    </tr>\n",
       "    <tr>\n",
       "      <th>2516</th>\n",
       "      <td>2.164254</td>\n",
       "      <td>1.246948</td>\n",
       "      <td>1.441080</td>\n",
       "      <td>1.685210</td>\n",
       "      <td>1.702114</td>\n",
       "      <td>1.474774</td>\n",
       "      <td>1.535126</td>\n",
       "      <td>1.288182</td>\n",
       "      <td>1.138653</td>\n",
       "      <td>1.500977</td>\n",
       "      <td>...</td>\n",
       "      <td>1.367442</td>\n",
       "      <td>1.357662</td>\n",
       "      <td>1.661583</td>\n",
       "      <td>1.348599</td>\n",
       "      <td>1.649220</td>\n",
       "      <td>1.782632</td>\n",
       "      <td>1.450872</td>\n",
       "      <td>1.701338</td>\n",
       "      <td>1.199957</td>\n",
       "      <td>1.171159</td>\n",
       "    </tr>\n",
       "    <tr>\n",
       "      <th>2517</th>\n",
       "      <td>2.169555</td>\n",
       "      <td>1.246315</td>\n",
       "      <td>1.436260</td>\n",
       "      <td>1.685058</td>\n",
       "      <td>1.697652</td>\n",
       "      <td>1.479128</td>\n",
       "      <td>1.536203</td>\n",
       "      <td>1.288485</td>\n",
       "      <td>1.144082</td>\n",
       "      <td>1.498097</td>\n",
       "      <td>...</td>\n",
       "      <td>1.366833</td>\n",
       "      <td>1.360457</td>\n",
       "      <td>1.672969</td>\n",
       "      <td>1.351751</td>\n",
       "      <td>1.646287</td>\n",
       "      <td>1.781356</td>\n",
       "      <td>1.459438</td>\n",
       "      <td>1.695322</td>\n",
       "      <td>1.197466</td>\n",
       "      <td>1.171882</td>\n",
       "    </tr>\n",
       "    <tr>\n",
       "      <th>2518</th>\n",
       "      <td>2.169089</td>\n",
       "      <td>1.243387</td>\n",
       "      <td>1.426446</td>\n",
       "      <td>1.685480</td>\n",
       "      <td>1.714264</td>\n",
       "      <td>1.479079</td>\n",
       "      <td>1.537777</td>\n",
       "      <td>1.289258</td>\n",
       "      <td>1.140795</td>\n",
       "      <td>1.496271</td>\n",
       "      <td>...</td>\n",
       "      <td>1.368088</td>\n",
       "      <td>1.357853</td>\n",
       "      <td>1.662915</td>\n",
       "      <td>1.354957</td>\n",
       "      <td>1.637911</td>\n",
       "      <td>1.781046</td>\n",
       "      <td>1.451367</td>\n",
       "      <td>1.695901</td>\n",
       "      <td>1.201111</td>\n",
       "      <td>1.172847</td>\n",
       "    </tr>\n",
       "    <tr>\n",
       "      <th>2519</th>\n",
       "      <td>2.170695</td>\n",
       "      <td>1.238881</td>\n",
       "      <td>1.419187</td>\n",
       "      <td>1.670521</td>\n",
       "      <td>1.720418</td>\n",
       "      <td>1.478161</td>\n",
       "      <td>1.544292</td>\n",
       "      <td>1.296500</td>\n",
       "      <td>1.137510</td>\n",
       "      <td>1.499085</td>\n",
       "      <td>...</td>\n",
       "      <td>1.370125</td>\n",
       "      <td>1.359697</td>\n",
       "      <td>1.664317</td>\n",
       "      <td>1.352170</td>\n",
       "      <td>1.633762</td>\n",
       "      <td>1.778638</td>\n",
       "      <td>1.443413</td>\n",
       "      <td>1.699061</td>\n",
       "      <td>1.191529</td>\n",
       "      <td>1.166331</td>\n",
       "    </tr>\n",
       "    <tr>\n",
       "      <th>2520</th>\n",
       "      <td>2.166411</td>\n",
       "      <td>1.238568</td>\n",
       "      <td>1.422756</td>\n",
       "      <td>1.668923</td>\n",
       "      <td>1.720600</td>\n",
       "      <td>1.480128</td>\n",
       "      <td>1.538224</td>\n",
       "      <td>1.292365</td>\n",
       "      <td>1.138481</td>\n",
       "      <td>1.501295</td>\n",
       "      <td>...</td>\n",
       "      <td>1.368816</td>\n",
       "      <td>1.361692</td>\n",
       "      <td>1.666635</td>\n",
       "      <td>1.349637</td>\n",
       "      <td>1.633255</td>\n",
       "      <td>1.781666</td>\n",
       "      <td>1.442561</td>\n",
       "      <td>1.699977</td>\n",
       "      <td>1.197157</td>\n",
       "      <td>1.165888</td>\n",
       "    </tr>\n",
       "  </tbody>\n",
       "</table>\n",
       "<p>2521 rows × 500 columns</p>\n",
       "</div>"
      ],
      "text/plain": [
       "           0         1         2         3         4         5         6    \\\n",
       "0     1.000000  1.000000  1.000000  1.000000  1.000000  1.000000  1.000000   \n",
       "1     0.997817  0.998428  1.000816  1.000202  1.002120  0.998788  1.004226   \n",
       "2     0.994703  0.996223  1.001987  0.998816  1.002372  0.996708  1.009074   \n",
       "3     0.994115  0.993375  0.992622  1.001069  0.999700  1.000123  1.011610   \n",
       "4     0.999040  0.997821  0.992272  0.999767  1.000459  1.006178  1.008906   \n",
       "...        ...       ...       ...       ...       ...       ...       ...   \n",
       "2516  2.164254  1.246948  1.441080  1.685210  1.702114  1.474774  1.535126   \n",
       "2517  2.169555  1.246315  1.436260  1.685058  1.697652  1.479128  1.536203   \n",
       "2518  2.169089  1.243387  1.426446  1.685480  1.714264  1.479079  1.537777   \n",
       "2519  2.170695  1.238881  1.419187  1.670521  1.720418  1.478161  1.544292   \n",
       "2520  2.166411  1.238568  1.422756  1.668923  1.720600  1.480128  1.538224   \n",
       "\n",
       "           7         8         9    ...       490       491       492  \\\n",
       "0     1.000000  1.000000  1.000000  ...  1.000000  1.000000  1.000000   \n",
       "1     1.004250  1.001431  1.000740  ...  0.995519  1.001253  1.000492   \n",
       "2     1.006986  1.006219  0.995591  ...  0.991815  1.001091  1.003774   \n",
       "3     1.009254  1.012194  0.998619  ...  0.992699  1.003085  1.005997   \n",
       "4     1.009897  1.014282  0.995619  ...  0.997683  1.007825  1.007858   \n",
       "...        ...       ...       ...  ...       ...       ...       ...   \n",
       "2516  1.288182  1.138653  1.500977  ...  1.367442  1.357662  1.661583   \n",
       "2517  1.288485  1.144082  1.498097  ...  1.366833  1.360457  1.672969   \n",
       "2518  1.289258  1.140795  1.496271  ...  1.368088  1.357853  1.662915   \n",
       "2519  1.296500  1.137510  1.499085  ...  1.370125  1.359697  1.664317   \n",
       "2520  1.292365  1.138481  1.501295  ...  1.368816  1.361692  1.666635   \n",
       "\n",
       "           493       494       495       496       497       498       499  \n",
       "0     1.000000  1.000000  1.000000  1.000000  1.000000  1.000000  1.000000  \n",
       "1     0.994026  1.006129  1.002356  1.005233  0.999769  1.002106  1.003746  \n",
       "2     0.989341  1.007530  1.009809  1.007273  0.999666  1.006340  0.998303  \n",
       "3     0.991536  1.004239  1.010765  1.009501  0.999652  1.011737  0.998762  \n",
       "4     0.991188  1.009171  1.009303  1.008223  1.003270  1.014350  1.001691  \n",
       "...        ...       ...       ...       ...       ...       ...       ...  \n",
       "2516  1.348599  1.649220  1.782632  1.450872  1.701338  1.199957  1.171159  \n",
       "2517  1.351751  1.646287  1.781356  1.459438  1.695322  1.197466  1.171882  \n",
       "2518  1.354957  1.637911  1.781046  1.451367  1.695901  1.201111  1.172847  \n",
       "2519  1.352170  1.633762  1.778638  1.443413  1.699061  1.191529  1.166331  \n",
       "2520  1.349637  1.633255  1.781666  1.442561  1.699977  1.197157  1.165888  \n",
       "\n",
       "[2521 rows x 500 columns]"
      ]
     },
     "execution_count": 31,
     "metadata": {},
     "output_type": "execute_result"
    }
   ],
   "source": [
    "# Running a Monte Carlo simulation to forecast 10 years cumulative returns\n",
    "# YOUR CODE HERE!\n",
    "MC_tenyear.calc_cumulative_return()"
   ]
  },
  {
   "cell_type": "code",
   "execution_count": 32,
   "metadata": {},
   "outputs": [
    {
     "data": {
      "image/png": "[encoded data removed]",
      "text/plain": [
       "<Figure size 432x288 with 1 Axes>"
      ]
     },
     "metadata": {
      "needs_background": "light"
     },
     "output_type": "display_data"
    }
   ],
   "source": [
    "# Plot simulation outcomes\n",
    "# YOUR CODE HERE!\n",
    "line_plot_ten = MC_tenyear.plot_simulation()"
   ]
  },
  {
   "cell_type": "code",
   "execution_count": 33,
   "metadata": {},
   "outputs": [
    {
     "data": {
      "image/png": "[encoded data removed]",
      "text/plain": [
       "<Figure size 432x288 with 1 Axes>"
      ]
     },
     "metadata": {
      "needs_background": "light"
     },
     "output_type": "display_data"
    }
   ],
   "source": [
    "# Plot probability distribution and confidence intervals\n",
    "# YOUR CODE HERE!\n",
    "dist_plot_ten = MC_tenyear.plot_distribution()"
   ]
  },
  {
   "cell_type": "code",
   "execution_count": 34,
   "metadata": {},
   "outputs": [
    {
     "name": "stdout",
     "output_type": "stream",
     "text": [
      "count           500.000000\n",
      "mean              1.477364\n",
      "std               0.230147\n",
      "min               0.984413\n",
      "25%               1.319127\n",
      "50%               1.468676\n",
      "75%               1.613270\n",
      "max               2.202006\n",
      "95% CI Lower      1.083048\n",
      "95% CI Upper      1.990417\n",
      "Name: 2520, dtype: float64\n"
     ]
    }
   ],
   "source": [
    "# Fetch summary statistics from the Monte Carlo simulation results\n",
    "# YOUR CODE HERE!\n",
    "tbl_ten = MCtenyear.summarize_cumulative_return()\n",
    "# Print summary statistics\n",
    "print(tbl_ten)"
   ]
  },
  {
   "cell_type": "code",
   "execution_count": 35,
   "metadata": {},
   "outputs": [
    {
     "name": "stdout",
     "output_type": "stream",
     "text": [
      "There is a 95% chance that an initial investment of $60000 in the portfolio over the next 30 years will end within in the range of $64982.9 and $119425.0\n"
     ]
    }
   ],
   "source": [
    "# Set initial investment\n",
    "# YOUR CODE HERE!\n",
    "initial_investment = 20000\n",
    "\n",
    "# Use the lower and upper `95%` confidence intervals to calculate the range of the possible outcomes of our $60,000\n",
    "# YOUR CODE HERE!\n",
    "ci_lower_ten = initial_investment_ten * round(tbl[8],2)\n",
    "ci_upper_ten = initial_investment_ten * round(tbl[9],2)\n",
    "\n",
    "# Print results\n",
    "print(f\"There is a 95% chance that an initial investment of ${initial_investment} in the portfolio\"\n",
    "      f\" over the next 10 years will end within in the range of\"\n",
    "      f\" ${ci_lower_ten} and ${ci_upper_ten}\")"
   ]
  }
 ],
 "metadata": {
  "kernelspec": {
   "display_name": "Python 3",
   "language": "python",
   "name": "python3"
  },
  "language_info": {
   "codemirror_mode": {
    "name": "ipython",
    "version": 3
   },
   "file_extension": ".py",
   "mimetype": "text/x-python",
   "name": "python",
   "nbconvert_exporter": "python",
   "pygments_lexer": "ipython3",
   "version": "3.8.3"
  }
 },
 "nbformat": 4,
 "nbformat_minor": 4
}
